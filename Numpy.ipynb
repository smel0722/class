{
  "nbformat": 4,
  "nbformat_minor": 0,
  "metadata": {
    "colab": {
      "name": "Numpy.ipynb",
      "version": "0.3.2",
      "provenance": [],
      "collapsed_sections": [],
      "include_colab_link": true
    },
    "kernelspec": {
      "name": "python3",
      "display_name": "Python 3"
    }
  },
  "cells": [
    {
      "cell_type": "markdown",
      "metadata": {
        "id": "view-in-github",
        "colab_type": "text"
      },
      "source": [
        "<a href=\"https://colab.research.google.com/github/smel0722/class/blob/master/Numpy.ipynb\" target=\"_parent\"><img src=\"https://colab.research.google.com/assets/colab-badge.svg\" alt=\"Open In Colab\"/></a>"
      ]
    },
    {
      "cell_type": "markdown",
      "metadata": {
        "id": "ZpAz2NjDHnPr",
        "colab_type": "text"
      },
      "source": [
        "#Numpy"
      ]
    },
    {
      "cell_type": "markdown",
      "metadata": {
        "id": "DBMRFeiaG6_E",
        "colab_type": "text"
      },
      "source": [
        "###使用np.array()建立陣列\n",
        "https://github.com/MyDearGreatTeacher"
      ]
    },
    {
      "cell_type": "code",
      "metadata": {
        "id": "wGxTKoZnDLF7",
        "colab_type": "code",
        "colab": {
          "base_uri": "https://localhost:8080/",
          "height": 85
        },
        "outputId": "7b3fe083-b54f-4916-e153-17ee65ff274d"
      },
      "source": [
        "import numpy as np\n",
        "print(\"numpy version: %s\" % np.__version__)\n",
        "x = np.array([[1,2.0],[0,0],(1+1j,3.)])\n",
        "print(x)\n"
      ],
      "execution_count": 6,
      "outputs": [
        {
          "output_type": "stream",
          "text": [
            "numpy version: 1.16.3\n",
            "[[1.+0.j 2.+0.j]\n",
            " [0.+0.j 0.+0.j]\n",
            " [1.+1.j 3.+0.j]]\n"
          ],
          "name": "stdout"
        }
      ]
    },
    {
      "cell_type": "code",
      "metadata": {
        "id": "HLZ5QhnmSiQS",
        "colab_type": "code",
        "colab": {}
      },
      "source": [
        ""
      ],
      "execution_count": 0,
      "outputs": []
    },
    {
      "cell_type": "code",
      "metadata": {
        "id": "lzIOSitYMDpu",
        "colab_type": "code",
        "colab": {
          "base_uri": "https://localhost:8080/",
          "height": 221
        },
        "outputId": "9fa91ec1-4967-4b2e-8b63-279c6b92d8fe"
      },
      "source": [
        "import numpy as np\n",
        "print(\"numpy version: %s\" % np.__version__)\n",
        "a =np.zeros((2, 3))\n",
        "b =np.arange(2, 3, 0.1) # start, end, step end not in line\n",
        "c =np.linspace(1, 4, 6) # start, end, num\n",
        "d =np.indices((3, 3))\n",
        "\n",
        "print(a)\n",
        "print(b)\n",
        "print(c)\n",
        "print(d)"
      ],
      "execution_count": 11,
      "outputs": [
        {
          "output_type": "stream",
          "text": [
            "numpy version: 1.16.3\n",
            "[[0. 0. 0.]\n",
            " [0. 0. 0.]]\n",
            "[2.  2.1 2.2 2.3 2.4 2.5 2.6 2.7 2.8 2.9]\n",
            "[1.  1.6 2.2 2.8 3.4 4. ]\n",
            "[[[0 0 0]\n",
            "  [1 1 1]\n",
            "  [2 2 2]]\n",
            "\n",
            " [[0 1 2]\n",
            "  [0 1 2]\n",
            "  [0 1 2]]]\n"
          ],
          "name": "stdout"
        }
      ]
    },
    {
      "cell_type": "markdown",
      "metadata": {
        "id": "08b_PHfwSnXz",
        "colab_type": "text"
      },
      "source": [
        "***作業***\n",
        "\n",
        "\n",
        "---\n",
        "\n"
      ]
    },
    {
      "cell_type": "code",
      "metadata": {
        "id": "Y7x2MFCYOqpy",
        "colab_type": "code",
        "colab": {
          "base_uri": "https://localhost:8080/",
          "height": 85
        },
        "outputId": "80992ec7-d5fe-471d-86ac-2e72c817f6d4"
      },
      "source": [
        "import numpy as np\n",
        "print(\"numpy version: %s\" % np.__version__)\n",
        "\n",
        "a= np.linspace(2.0, 3.0, num=5)\n",
        "\n",
        "b=np.linspace(2.0, 3.0, num=5, endpoint=False)\n",
        "\n",
        "c=np.linspace(2.0, 3.0, num=5, retstep=True)\n",
        "\n",
        "print(a)\n",
        "print(b)\n",
        "print(c)"
      ],
      "execution_count": 12,
      "outputs": [
        {
          "output_type": "stream",
          "text": [
            "numpy version: 1.16.3\n",
            "[2.   2.25 2.5  2.75 3.  ]\n",
            "[2.  2.2 2.4 2.6 2.8]\n",
            "(array([2.  , 2.25, 2.5 , 2.75, 3.  ]), 0.25)\n"
          ],
          "name": "stdout"
        }
      ]
    },
    {
      "cell_type": "markdown",
      "metadata": {
        "id": "C30zvgRjSYgD",
        "colab_type": "text"
      },
      "source": [
        "***N維陣列的屬性***\n",
        "\n",
        "---\n",
        "\n"
      ]
    },
    {
      "cell_type": "code",
      "metadata": {
        "id": "7574h_tIMDxs",
        "colab_type": "code",
        "colab": {
          "base_uri": "https://localhost:8080/",
          "height": 51
        },
        "outputId": "95ac013d-0962-441f-e713-b46cc9e1a029"
      },
      "source": [
        "import numpy as np\n",
        "print(\"numpy version: %s\" % np.__version__)\n",
        "ar2=np.array([[0,3,5],[2,8,7]]) # 2D array\n",
        "ar2.shape\n",
        "ar2.ndim\n"
      ],
      "execution_count": 25,
      "outputs": [
        {
          "output_type": "stream",
          "text": [
            "numpy version: 1.16.3\n"
          ],
          "name": "stdout"
        },
        {
          "output_type": "execute_result",
          "data": {
            "text/plain": [
              "2"
            ]
          },
          "metadata": {
            "tags": []
          },
          "execution_count": 25
        }
      ]
    },
    {
      "cell_type": "markdown",
      "metadata": {
        "id": "f6jMCxqATMbh",
        "colab_type": "text"
      },
      "source": [
        "***Array shape manipulation***\n"
      ]
    },
    {
      "cell_type": "code",
      "metadata": {
        "id": "46xqfkkHSvxr",
        "colab_type": "code",
        "colab": {
          "base_uri": "https://localhost:8080/",
          "height": 119
        },
        "outputId": "26065307-0a6f-4ca3-8af7-e572021fc4d3"
      },
      "source": [
        "\n",
        "x = np.arange(4)\n",
        "print(x)\n",
        "x2 = x.reshape(4,1)\n",
        "print(x2)\n",
        "x2.shape\n"
      ],
      "execution_count": 24,
      "outputs": [
        {
          "output_type": "stream",
          "text": [
            "[0 1 2 3]\n",
            "[[0]\n",
            " [1]\n",
            " [2]\n",
            " [3]]\n"
          ],
          "name": "stdout"
        },
        {
          "output_type": "execute_result",
          "data": {
            "text/plain": [
              "(4, 1)"
            ]
          },
          "metadata": {
            "tags": []
          },
          "execution_count": 24
        }
      ]
    },
    {
      "cell_type": "markdown",
      "metadata": {
        "id": "x_vX8zsxUpPF",
        "colab_type": "text"
      },
      "source": [
        "***1D ARRAY***\n",
        "\n"
      ]
    },
    {
      "cell_type": "code",
      "metadata": {
        "id": "dFUDp4mcTkfT",
        "colab_type": "code",
        "colab": {
          "base_uri": "https://localhost:8080/",
          "height": 153
        },
        "outputId": "b6cb697e-6dc4-465b-cba1-b4a1daccc0a9"
      },
      "source": [
        "a=np.array([[0,1],[2,3]])\n",
        "print(a)\n",
        "x =a.reshape(1,4)\n",
        "print(x)\n",
        "\n",
        "y = a.reshape(4,1)\n",
        "print(y)\n",
        "x.shape\n"
      ],
      "execution_count": 46,
      "outputs": [
        {
          "output_type": "stream",
          "text": [
            "[[0 1]\n",
            " [2 3]]\n",
            "[[0 1 2 3]]\n",
            "[[0]\n",
            " [1]\n",
            " [2]\n",
            " [3]]\n"
          ],
          "name": "stdout"
        },
        {
          "output_type": "execute_result",
          "data": {
            "text/plain": [
              "(1, 4)"
            ]
          },
          "metadata": {
            "tags": []
          },
          "execution_count": 46
        }
      ]
    },
    {
      "cell_type": "markdown",
      "metadata": {
        "id": "BbdeLF-rbrjR",
        "colab_type": "text"
      },
      "source": [
        "***2D array*** "
      ]
    },
    {
      "cell_type": "code",
      "metadata": {
        "id": "xm8OONpOUI-r",
        "colab_type": "code",
        "colab": {
          "base_uri": "https://localhost:8080/",
          "height": 153
        },
        "outputId": "ef51514a-a6ee-40b1-f5de-a8faf863b81b"
      },
      "source": [
        "a=np.array([[0,1],[2,3]])\n",
        "print(a)\n",
        "x =a.reshape(1,4)\n",
        "print(x)\n",
        "\n",
        "y = a.reshape(4,1)\n",
        "print(y)\n",
        "\n",
        "y.shape"
      ],
      "execution_count": 47,
      "outputs": [
        {
          "output_type": "stream",
          "text": [
            "[[0 1]\n",
            " [2 3]]\n",
            "[[0 1 2 3]]\n",
            "[[0]\n",
            " [1]\n",
            " [2]\n",
            " [3]]\n"
          ],
          "name": "stdout"
        },
        {
          "output_type": "execute_result",
          "data": {
            "text/plain": [
              "(4, 1)"
            ]
          },
          "metadata": {
            "tags": []
          },
          "execution_count": 47
        }
      ]
    },
    {
      "cell_type": "markdown",
      "metadata": {
        "id": "F5uFyhoVVbhY",
        "colab_type": "text"
      },
      "source": [
        "***2D array*** "
      ]
    },
    {
      "cell_type": "code",
      "metadata": {
        "id": "QZpu1pX3Uocl",
        "colab_type": "code",
        "colab": {
          "base_uri": "https://localhost:8080/",
          "height": 119
        },
        "outputId": "3399843b-13cf-4c1c-edca-7b89fbaac830"
      },
      "source": [
        "x = np.arange(2,10).reshape(2,4)\n",
        "print(x)\n",
        "y =np.arange(2,10).reshape(4,2)\n",
        "print(y)\n",
        "#z =np.arange(2,10).reshape(4,4)\n",
        "#print(z)"
      ],
      "execution_count": 43,
      "outputs": [
        {
          "output_type": "stream",
          "text": [
            "[[2 3 4 5]\n",
            " [6 7 8 9]]\n",
            "[[2 3]\n",
            " [4 5]\n",
            " [6 7]\n",
            " [8 9]]\n"
          ],
          "name": "stdout"
        }
      ]
    },
    {
      "cell_type": "markdown",
      "metadata": {
        "id": "htbomIWxZFUi",
        "colab_type": "text"
      },
      "source": [
        "***3D array***"
      ]
    },
    {
      "cell_type": "code",
      "metadata": {
        "id": "rsUs3ZOWWta7",
        "colab_type": "code",
        "colab": {
          "base_uri": "https://localhost:8080/",
          "height": 170
        },
        "outputId": "bb7fbcaf-ed4d-4a6e-e7cb-6489dfbe6edf"
      },
      "source": [
        "x = np.arange(0,64).reshape(2,4,8)\n",
        "print(x)"
      ],
      "execution_count": 51,
      "outputs": [
        {
          "output_type": "stream",
          "text": [
            "[[[ 0  1  2  3  4  5  6  7]\n",
            "  [ 8  9 10 11 12 13 14 15]\n",
            "  [16 17 18 19 20 21 22 23]\n",
            "  [24 25 26 27 28 29 30 31]]\n",
            "\n",
            " [[32 33 34 35 36 37 38 39]\n",
            "  [40 41 42 43 44 45 46 47]\n",
            "  [48 49 50 51 52 53 54 55]\n",
            "  [56 57 58 59 60 61 62 63]]]\n"
          ],
          "name": "stdout"
        }
      ]
    },
    {
      "cell_type": "markdown",
      "metadata": {
        "id": "jZvZoIBLZJC6",
        "colab_type": "text"
      },
      "source": [
        "***3D array***\n",
        "\n"
      ]
    },
    {
      "cell_type": "code",
      "metadata": {
        "id": "O8Apaj2wWA6o",
        "colab_type": "code",
        "colab": {
          "base_uri": "https://localhost:8080/",
          "height": 680
        },
        "outputId": "bf5fcb52-4423-4662-c708-04c669cad205"
      },
      "source": [
        "x = np.arange(0,64).reshape(8,4,2)\n",
        "print(x)"
      ],
      "execution_count": 52,
      "outputs": [
        {
          "output_type": "stream",
          "text": [
            "[[[ 0  1]\n",
            "  [ 2  3]\n",
            "  [ 4  5]\n",
            "  [ 6  7]]\n",
            "\n",
            " [[ 8  9]\n",
            "  [10 11]\n",
            "  [12 13]\n",
            "  [14 15]]\n",
            "\n",
            " [[16 17]\n",
            "  [18 19]\n",
            "  [20 21]\n",
            "  [22 23]]\n",
            "\n",
            " [[24 25]\n",
            "  [26 27]\n",
            "  [28 29]\n",
            "  [30 31]]\n",
            "\n",
            " [[32 33]\n",
            "  [34 35]\n",
            "  [36 37]\n",
            "  [38 39]]\n",
            "\n",
            " [[40 41]\n",
            "  [42 43]\n",
            "  [44 45]\n",
            "  [46 47]]\n",
            "\n",
            " [[48 49]\n",
            "  [50 51]\n",
            "  [52 53]\n",
            "  [54 55]]\n",
            "\n",
            " [[56 57]\n",
            "  [58 59]\n",
            "  [60 61]\n",
            "  [62 63]]]\n"
          ],
          "name": "stdout"
        }
      ]
    },
    {
      "cell_type": "markdown",
      "metadata": {
        "id": "Z2tvfl3NbjqK",
        "colab_type": "text"
      },
      "source": [
        "***Array shape manipulation\u000bFlattening a multi-dimensional array***"
      ]
    },
    {
      "cell_type": "code",
      "metadata": {
        "id": "kxjAJp25XLlD",
        "colab_type": "code",
        "colab": {
          "base_uri": "https://localhost:8080/",
          "height": 68
        },
        "outputId": "4ec50aa7-cb59-4bdd-dff8-cde297e26143"
      },
      "source": [
        "ar=np.array([np.arange(1,6),np.arange(10,15)]); \n",
        "ar\n",
        "ar.ravel()\n",
        "print(ar)\n",
        "z = ar.T.ravel()\n",
        "print(z)"
      ],
      "execution_count": 60,
      "outputs": [
        {
          "output_type": "stream",
          "text": [
            "[[ 1  2  3  4  5]\n",
            " [10 11 12 13 14]]\n",
            "[ 1 10  2 11  3 12  4 13  5 14]\n"
          ],
          "name": "stdout"
        }
      ]
    },
    {
      "cell_type": "markdown",
      "metadata": {
        "id": "AdYDkpUocXlo",
        "colab_type": "text"
      },
      "source": [
        "***Numpy的 2D random***"
      ]
    },
    {
      "cell_type": "code",
      "metadata": {
        "id": "YWfOBFuCcHTc",
        "colab_type": "code",
        "colab": {
          "base_uri": "https://localhost:8080/",
          "height": 85
        },
        "outputId": "31860e17-54bf-4537-b405-2d591ccdb72c"
      },
      "source": [
        "np.random.rand(4,3)\n"
      ],
      "execution_count": 62,
      "outputs": [
        {
          "output_type": "execute_result",
          "data": {
            "text/plain": [
              "array([[0.69297233, 0.97717359, 0.54802378],\n",
              "       [0.10987069, 0.85136544, 0.64981101],\n",
              "       [0.8304694 , 0.67455508, 0.13432979],\n",
              "       [0.24313528, 0.05389671, 0.57269504]])"
            ]
          },
          "metadata": {
            "tags": []
          },
          "execution_count": 62
        }
      ]
    },
    {
      "cell_type": "markdown",
      "metadata": {
        "id": "Eokh6zbdchDQ",
        "colab_type": "text"
      },
      "source": [
        "***Numpy的 3D random***"
      ]
    },
    {
      "cell_type": "code",
      "metadata": {
        "id": "xKyTxuPWcZ5p",
        "colab_type": "code",
        "colab": {
          "base_uri": "https://localhost:8080/",
          "height": 272
        },
        "outputId": "d5ced3f6-8c76-4709-c71e-48d31e0a8a78"
      },
      "source": [
        "np.random.rand(4,3,2)\n"
      ],
      "execution_count": 63,
      "outputs": [
        {
          "output_type": "execute_result",
          "data": {
            "text/plain": [
              "array([[[0.94686711, 0.83496354],\n",
              "        [0.09364436, 0.79070943],\n",
              "        [0.56678652, 0.74506706]],\n",
              "\n",
              "       [[0.28708356, 0.95826757],\n",
              "        [0.72043013, 0.79853159],\n",
              "        [0.62122096, 0.02244235]],\n",
              "\n",
              "       [[0.85774318, 0.633189  ],\n",
              "        [0.96887724, 0.44058709],\n",
              "        [0.01035035, 0.69761919]],\n",
              "\n",
              "       [[0.42107472, 0.33996762],\n",
              "        [0.30754821, 0.46647568],\n",
              "        [0.2630231 , 0.01297857]]])"
            ]
          },
          "metadata": {
            "tags": []
          },
          "execution_count": 63
        }
      ]
    },
    {
      "cell_type": "markdown",
      "metadata": {
        "id": "SDB_UazOc_Bn",
        "colab_type": "text"
      },
      "source": [
        "***numpy.random.randint()***\n"
      ]
    },
    {
      "cell_type": "code",
      "metadata": {
        "id": "7MapS-nMc2kh",
        "colab_type": "code",
        "colab": {
          "base_uri": "https://localhost:8080/",
          "height": 85
        },
        "outputId": "cdc9e242-b850-4b19-ea73-1704fdfed1e3"
      },
      "source": [
        "c =np.random.randint(1,size=5)   \n",
        "print(c)\n",
        "a=np.random.randint(1,5)           \n",
        "print(a)\n",
        "b=np.random.randint(-5,5,size=(2,2))\n",
        "print(b)"
      ],
      "execution_count": 71,
      "outputs": [
        {
          "output_type": "stream",
          "text": [
            "[0 0 0 0 0]\n",
            "4\n",
            "[[-3 -5]\n",
            " [-4  3]]\n"
          ],
          "name": "stdout"
        }
      ]
    },
    {
      "cell_type": "markdown",
      "metadata": {
        "id": "eHyTtIv7d6N-",
        "colab_type": "text"
      },
      "source": [
        "***numpy.random.seed()***"
      ]
    },
    {
      "cell_type": "code",
      "metadata": {
        "id": "U2HO4EOCd5Ib",
        "colab_type": "code",
        "colab": {
          "base_uri": "https://localhost:8080/",
          "height": 68
        },
        "outputId": "acd0597f-d975-43db-a407-02261ef69fb7"
      },
      "source": [
        "np.random.seed(0)\n",
        "a = np.random.rand(5)\n",
        "print(a)\n",
        "np.random.seed(1676)\n",
        "b=np.random.rand(5)\n",
        "print(b)\n",
        "np.random.seed(1676)\n",
        "c=np.random.rand(5)\n",
        "print(c)\n"
      ],
      "execution_count": 73,
      "outputs": [
        {
          "output_type": "stream",
          "text": [
            "[0.5488135  0.71518937 0.60276338 0.54488318 0.4236548 ]\n",
            "[0.39983389 0.29426895 0.89541728 0.71807369 0.3531823 ]\n",
            "[0.39983389 0.29426895 0.89541728 0.71807369 0.3531823 ]\n"
          ],
          "name": "stdout"
        }
      ]
    },
    {
      "cell_type": "code",
      "metadata": {
        "id": "5ECXFb8XeJnh",
        "colab_type": "code",
        "colab": {}
      },
      "source": [
        ""
      ],
      "execution_count": 0,
      "outputs": []
    }
  ]
}